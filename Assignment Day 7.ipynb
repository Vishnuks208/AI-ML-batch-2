{
 "cells": [
  {
   "cell_type": "markdown",
   "metadata": {},
   "source": [
    "# Assignment Day 7"
   ]
  },
  {
   "cell_type": "markdown",
   "metadata": {},
   "source": [
    "1:\n",
    "Write a program to copy the contents of one file to another using a for loop. (Don’t use built-in copy\n",
    "function)\n"
   ]
  },
  {
   "cell_type": "code",
   "execution_count": 9,
   "metadata": {},
   "outputs": [
    {
     "name": "stdout",
     "output_type": "stream",
     "text": [
      "Contents in t1.txt is:\n",
      " ['Hello world!\\n', 'python Language\\n', 'Bye']\n",
      "Contents in t2.txt is:\n",
      " ['Hello world!\\n', 'python Language\\n', 'Bye']\n"
     ]
    }
   ],
   "source": [
    "f=open(\"t1.txt\",\"r\")\n",
    "fn1 = open('t2.txt', 'a') \n",
    "cont=f.readlines()\n",
    "print(\"Contents in t1.txt is:\\n\",cont)\n",
    "\n",
    "for i in cont:\n",
    "    fn1.write(i)\n",
    "print(\"Contents in t2.txt is:\\n\",cont)\n"
   ]
  },
  {
   "cell_type": "markdown",
   "metadata": {},
   "source": [
    "2:\n",
    "Write a Python program to find maximum and minimum values in the dictionary. Do not use built-in min\n",
    "and max functions."
   ]
  },
  {
   "cell_type": "code",
   "execution_count": 58,
   "metadata": {},
   "outputs": [
    {
     "name": "stdout",
     "output_type": "stream",
     "text": [
      "Maximum value in the dictionary is:  20\n",
      "Minimum value in the dictionary is:  1\n"
     ]
    }
   ],
   "source": [
    "d = {1: 5, 2: 10, 3: 20, 4: 1 , 5: 3 } \n",
    "\n",
    "v=d.values()\n",
    "x=list(v)\n",
    "maxi=x[i]\n",
    "mini=x[i]\n",
    "for i in range(len(x)):\n",
    "    \n",
    "    if x[i]>maxi:\n",
    "        maxi=x[i]\n",
    "print(\"Maximum value in the dictionary is: \",maxi)   \n",
    "        \n",
    "for i in range(len(x)):\n",
    "    \n",
    "    if x[i]<mini:\n",
    "        mini=x[i]\n",
    "print(\"Minimum value in the dictionary is: \",mini)      \n",
    "        \n",
    "        \n",
    "    \n",
    "    \n",
    "    \n"
   ]
  },
  {
   "cell_type": "code",
   "execution_count": null,
   "metadata": {},
   "outputs": [],
   "source": []
  }
 ],
 "metadata": {
  "kernelspec": {
   "display_name": "Python 3",
   "language": "python",
   "name": "python3"
  },
  "language_info": {
   "codemirror_mode": {
    "name": "ipython",
    "version": 3
   },
   "file_extension": ".py",
   "mimetype": "text/x-python",
   "name": "python",
   "nbconvert_exporter": "python",
   "pygments_lexer": "ipython3",
   "version": "3.8.3"
  }
 },
 "nbformat": 4,
 "nbformat_minor": 4
}
