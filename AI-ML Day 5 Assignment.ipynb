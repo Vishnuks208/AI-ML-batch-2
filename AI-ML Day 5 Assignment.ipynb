{
 "cells": [
  {
   "cell_type": "markdown",
   "metadata": {},
   "source": [
    "# Assignment Day 5"
   ]
  },
  {
   "cell_type": "markdown",
   "metadata": {},
   "source": [
    "1 :Write a Python program to find the first 20 non-even prime natural numbers."
   ]
  },
  {
   "cell_type": "code",
   "execution_count": 5,
   "metadata": {},
   "outputs": [
    {
     "name": "stdout",
     "output_type": "stream",
     "text": [
      "3 5 7 11 13 17 19 23 29 31 37 41 43 47 53 59 61 67 71 73 "
     ]
    }
   ],
   "source": [
    "count=0\n",
    "num=100\n",
    "for i in range(3,num,2): \n",
    "    for j in range(2,i):\n",
    "        \n",
    "        if (i % j)==0: \n",
    "            break\n",
    "    else: \n",
    "        \n",
    "        count=count+1\n",
    "        if count>20:\n",
    "            break\n",
    "        else:    \n",
    "            print(i,end=' ')\n",
    "\n",
    "    \n",
    "\n",
    "        "
   ]
  },
  {
   "cell_type": "markdown",
   "metadata": {},
   "source": [
    "2 : Write a Python program to implement 15 functions of string."
   ]
  },
  {
   "cell_type": "code",
   "execution_count": 43,
   "metadata": {},
   "outputs": [
    {
     "name": "stdout",
     "output_type": "stream",
     "text": [
      "Python program to implement 15 functions of string\n",
      "False\n",
      "False\n",
      "3\n",
      "gnirts FO snoitcnuf 51 tnemelpmi OT margorp nohtyp\n",
      "50\n",
      "['python', 'program', 'TO', 'implement', '15', 'functions', 'OF', 'string']\n",
      "python#program#TO#implement#15#functions#OF#string\n",
      "('python program TO implement 15 functions OF string', '', '')\n",
      "PYTHON PROGRAM TO IMPLEMENT 15 FUNCTIONS OF STRING\n",
      "python program to implement 15 functions of string\n",
      "Python Program To Implement 15 Functions Of String\n",
      "PYTHON PROGRAM to IMPLEMENT 15 FUNCTIONS of STRING\n",
      "True\n",
      "python program TO implement 10 functions OF string\n"
     ]
    }
   ],
   "source": [
    "x=\"python program TO implement 15 functions OF string\"\n",
    "substring=\"p\"\n",
    "\n",
    "print(str.capitalize(string))\n",
    "print(str.isupper(x))\n",
    "print(str.islower(x))\n",
    "print(x.count(substring))\n",
    "print(x[::-1])\n",
    "print(len(x))\n",
    "print(x.split(\" \"))\n",
    "print(\"#\".join(x.split(\" \")))\n",
    "print(x.partition(\"to\"))\n",
    "print(x.upper())\n",
    "print(x.lower())\n",
    "print(x.title())\n",
    "print(x.swapcase())\n",
    "print(x.startswith(\"python\"))\n",
    "print(x.replace(\"15\", \"10\"))"
   ]
  },
  {
   "cell_type": "markdown",
   "metadata": {},
   "source": []
  },
  {
   "cell_type": "markdown",
   "metadata": {},
   "source": [
    "3:Write a Python program to check if the given string is a Palindrome or Anagram or None of them. Display\n",
    "the message accordingly to the user."
   ]
  },
  {
   "cell_type": "code",
   "execution_count": 68,
   "metadata": {},
   "outputs": [
    {
     "name": "stdout",
     "output_type": "stream",
     "text": [
      "Enter 1st string:\n",
      "vishnu\n",
      "Enter 2nd string:\n",
      "malayalam\n",
      "\n",
      " vishnu is a Not a Palindrome\n",
      "\n",
      " malayalam is a Palindrome\n",
      "\n",
      " vishnu & malayalam aren't anagrams.\n"
     ]
    }
   ],
   "source": [
    "x1=input(\"Enter 1st string:\\n\")\n",
    "x2=input(\"Enter 2nd string:\\n\")\n",
    "y1=x1[::-1]\n",
    "y2=x2[::-1]\n",
    "if (x1==y1):\n",
    "    print(\"\\n\",x1,\"is a Palindrome\")\n",
    "else:\n",
    "    print(\"\\n\",x1,\"is a Not a Palindrome\")\n",
    "\n",
    "if (x2==y2):\n",
    "    print(\"\\n\",x2,\"is a Palindrome\")\n",
    "else:\n",
    "    print(\"\\n\",x2,\"is a Not a Palindrome\")    \n",
    "    \n",
    "if(sorted(x1)== sorted(x2)): \n",
    "    print(\"\\n\",x1,\"&\",x2,\"are anagrams.\")  \n",
    "else: \n",
    "    print(\"\\n\",x1,\"&\",x2,\"aren't anagrams.\")\n"
   ]
  },
  {
   "cell_type": "markdown",
   "metadata": {},
   "source": [
    "4:Write a Python's user-defined function that removes all the additional characters from the string and\n",
    "convert it finally to lower case using built-in lower(). eg: If the string is \"Dr. Darshan Ingle @AIML Trainer\",\n",
    "then the output be \"drdarshaningleaimltrainer\"."
   ]
  },
  {
   "cell_type": "code",
   "execution_count": 79,
   "metadata": {},
   "outputs": [
    {
     "name": "stdout",
     "output_type": "stream",
     "text": [
      "Enter a string:\n",
      "Dr. Darshan Ingle @AIML Trainer\n",
      "drdarshaningleaimltrainer"
     ]
    }
   ],
   "source": [
    "x=input(\"Enter a string:\\n\")\n",
    "y=list(x)\n",
    "\n",
    "for i in y:\n",
    "    if((ord(i)>64 and ord(i)<91)or(ord(i)>96 and ord(i)<123)):\n",
    "        print(i.lower(),end='')"
   ]
  },
  {
   "cell_type": "code",
   "execution_count": null,
   "metadata": {},
   "outputs": [],
   "source": []
  }
 ],
 "metadata": {
  "kernelspec": {
   "display_name": "Python 3",
   "language": "python",
   "name": "python3"
  },
  "language_info": {
   "codemirror_mode": {
    "name": "ipython",
    "version": 3
   },
   "file_extension": ".py",
   "mimetype": "text/x-python",
   "name": "python",
   "nbconvert_exporter": "python",
   "pygments_lexer": "ipython3",
   "version": "3.8.3"
  }
 },
 "nbformat": 4,
 "nbformat_minor": 4
}
