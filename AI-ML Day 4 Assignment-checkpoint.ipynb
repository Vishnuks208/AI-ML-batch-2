{
 "cells": [
  {
   "cell_type": "markdown",
   "metadata": {},
   "source": [
    "# Assignment Day 4"
   ]
  },
  {
   "cell_type": "markdown",
   "metadata": {},
   "source": [
    "1 : Research on whether addition, subtraction, multiplication, division, floor division, and modulo operations\n",
    "be performed on complex numbers. Based on your study, implement a Python program to demonstrate\n",
    "these operations."
   ]
  },
  {
   "cell_type": "code",
   "execution_count": 4,
   "metadata": {},
   "outputs": [
    {
     "name": "stdout",
     "output_type": "stream",
     "text": [
      "Subtraction of complex numbers (8+5j) & (5+2j) is (13+7j)\n",
      "Addition of complex numbers (8+5j) & (5+2j) is (3+3j)\n",
      "Multiplication of complex numbers (8+5j) & (5+2j) is (30+41j)\n",
      "Division of complex numbers (8+5j) & (5+2j) is (1.7241379310344829+0.31034482758620685j)\n"
     ]
    }
   ],
   "source": [
    "x= 8+5j\n",
    "y= 5+2j\n",
    "\n",
    "Sum=x+y\n",
    "print(\"Subtraction of complex numbers\",x ,\"&\",y,\"is\",Sum)\n",
    "Sub=x-y\n",
    "print(\"Addition of complex numbers\",x ,\"&\",y,\"is\",Sub)\n",
    "mul=x*y\n",
    "print(\"Multiplication of complex numbers\",x ,\"&\",y,\"is\",mul)\n",
    "div=x/y\n",
    "print(\"Division of complex numbers\",x ,\"&\",y,\"is\",div)\n",
    "\n",
    "#floor_div=x//y -- Not applicable\n",
    "#mod=x%y -- Not applicable"
   ]
  },
  {
   "cell_type": "markdown",
   "metadata": {},
   "source": [
    "2 : Research on range() functions and its parameters. Create a markdown cell and write in your own words\n",
    "(no copy-paste from google please) what you understand about it. Implement a small program of your\n",
    "choice on the same."
   ]
  },
  {
   "cell_type": "markdown",
   "metadata": {},
   "source": [
    "Ans:- Range() is a built-in function used in python. It is used when we need to perform an action n number of times.\n",
    "Parameters used here are Range(start,stop,stepsize)."
   ]
  },
  {
   "cell_type": "code",
   "execution_count": 8,
   "metadata": {},
   "outputs": [
    {
     "name": "stdout",
     "output_type": "stream",
     "text": [
      "0\n",
      "2\n",
      "4\n"
     ]
    }
   ],
   "source": [
    "a=5\n",
    "for i in range(0,a,2):\n",
    "    print(i)"
   ]
  },
  {
   "cell_type": "markdown",
   "metadata": {},
   "source": [
    "3: Consider two numbers. Perform their subtraction and if the result of subtraction is greater than 25, print\n",
    "their multiplication result else print their division result."
   ]
  },
  {
   "cell_type": "code",
   "execution_count": 10,
   "metadata": {},
   "outputs": [
    {
     "name": "stdout",
     "output_type": "stream",
     "text": [
      "1200\n"
     ]
    }
   ],
   "source": [
    "x=60\n",
    "y=20\n",
    "if x-y>25:\n",
    "    print(x*y)\n",
    "else:\n",
    "    print(x/y)"
   ]
  },
  {
   "cell_type": "markdown",
   "metadata": {},
   "source": [
    "4: Consider a list of 10 elements of integer values. If the number in the list is divisible by 2, print the result as\n",
    "\"square of that number minus 2\"."
   ]
  },
  {
   "cell_type": "code",
   "execution_count": 12,
   "metadata": {},
   "outputs": [
    {
     "name": "stdout",
     "output_type": "stream",
     "text": [
      "square of 0 minus 2 is -2\n",
      "square of 2 minus 2 is 2\n",
      "square of 4 minus 2 is 14\n",
      "square of 6 minus 2 is 34\n",
      "square of 8 minus 2 is 62\n"
     ]
    }
   ],
   "source": [
    "l=[0,1,2,3,4,5,6,7,8,9]\n",
    "for i in l:\n",
    "    if i%2==0:\n",
    "        print(\"square of\",i,\"minus 2 is\",i**2 - 2)"
   ]
  },
  {
   "cell_type": "markdown",
   "metadata": {},
   "source": [
    "5:Consider a list of 10 elements. Print all the elements in the list which are greater than 7 when that number\n",
    "is divided 2."
   ]
  },
  {
   "cell_type": "code",
   "execution_count": 13,
   "metadata": {},
   "outputs": [
    {
     "name": "stdout",
     "output_type": "stream",
     "text": [
      "14\n",
      "64\n",
      "75\n",
      "28\n",
      "29\n"
     ]
    }
   ],
   "source": [
    "l=[0,1,2,3,14,5,64,75,28,29]\n",
    "for i in l:\n",
    "    if i//2>=7:\n",
    "        print(i)"
   ]
  },
  {
   "cell_type": "code",
   "execution_count": null,
   "metadata": {},
   "outputs": [],
   "source": []
  }
 ],
 "metadata": {
  "kernelspec": {
   "display_name": "Python 3",
   "language": "python",
   "name": "python3"
  },
  "language_info": {
   "codemirror_mode": {
    "name": "ipython",
    "version": 3
   },
   "file_extension": ".py",
   "mimetype": "text/x-python",
   "name": "python",
   "nbconvert_exporter": "python",
   "pygments_lexer": "ipython3",
   "version": "3.8.3"
  }
 },
 "nbformat": 4,
 "nbformat_minor": 4
}
