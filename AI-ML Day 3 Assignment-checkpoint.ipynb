{
 "cells": [
  {
   "cell_type": "markdown",
   "metadata": {},
   "source": [
    "# Day 3 Assignment"
   ]
  },
  {
   "cell_type": "markdown",
   "metadata": {},
   "source": [
    "1.Write a program to subtract two complex numbers in Python."
   ]
  },
  {
   "cell_type": "code",
   "execution_count": 18,
   "metadata": {},
   "outputs": [
    {
     "name": "stdout",
     "output_type": "stream",
     "text": [
      "Subtraction of complex numbers (10+5j) & (6+2j) is (4+3j)\n"
     ]
    }
   ],
   "source": [
    "x=10+5j\n",
    "y=6+2j\n",
    "z=x-y\n",
    "print(\"Subtraction of complex numbers\",x ,\"&\",y,\"is\",z)"
   ]
  },
  {
   "cell_type": "markdown",
   "metadata": {},
   "source": [
    "2.Write a program to find the fourth root of a number."
   ]
  },
  {
   "cell_type": "code",
   "execution_count": 12,
   "metadata": {},
   "outputs": [
    {
     "name": "stdout",
     "output_type": "stream",
     "text": [
      "fourth root of 16 is 2.0\n"
     ]
    }
   ],
   "source": [
    "x=16**(1/4)\n",
    "print(\"fourth root of 16 is\",x)"
   ]
  },
  {
   "cell_type": "markdown",
   "metadata": {},
   "source": [
    "3.Write a program to swap two numbers in Python with the help of a temporary variable."
   ]
  },
  {
   "cell_type": "code",
   "execution_count": 15,
   "metadata": {},
   "outputs": [
    {
     "name": "stdout",
     "output_type": "stream",
     "text": [
      "Values before swapping are x= 5 y= 8\n",
      "Values after swapping are x= 8 y= 5\n"
     ]
    }
   ],
   "source": [
    "x=5\n",
    "y=8\n",
    "print(\"Values before swapping are x=\",x,\"y=\",y)\n",
    "temp=x\n",
    "x=y\n",
    "y=temp\n",
    "print(\"Values after swapping are x=\",x,\"y=\",y)\n"
   ]
  },
  {
   "cell_type": "markdown",
   "metadata": {},
   "source": [
    "4.Write a program to swap two numbers in Python without using a temporary variable."
   ]
  },
  {
   "cell_type": "code",
   "execution_count": 16,
   "metadata": {},
   "outputs": [
    {
     "name": "stdout",
     "output_type": "stream",
     "text": [
      "Values before swapping are x= 5 y= 8\n",
      "Values after swapping are x= 8 y= 5\n"
     ]
    }
   ],
   "source": [
    "x=5\n",
    "y=8\n",
    "print(\"Values before swapping are x=\",x,\"y=\",y)\n",
    "x=y+x\n",
    "y=x-y\n",
    "x=x-y\n",
    "print(\"Values after swapping are x=\",x,\"y=\",y)"
   ]
  },
  {
   "cell_type": "markdown",
   "metadata": {},
   "source": [
    "5.Write a program to convert Fahrenheit to kelvin and celsius both."
   ]
  },
  {
   "cell_type": "code",
   "execution_count": 29,
   "metadata": {},
   "outputs": [
    {
     "name": "stdout",
     "output_type": "stream",
     "text": [
      "Teamperature in Fahrenheit is 98\n",
      "Teamperature in celsius is 36.66666666666667\n",
      "Teamperature in Kelvin is 309.81666666666666\n"
     ]
    }
   ],
   "source": [
    "x=98\n",
    "print(\"Teamperature in Fahrenheit is\",x)\n",
    "y=((x-32) * (5/9)) \n",
    "print(\"Teamperature in celsius is\",y)\n",
    "z=((x-32) * (5/9)) + 273.15\n",
    "print(\"Teamperature in Kelvin is\",z)"
   ]
  },
  {
   "cell_type": "markdown",
   "metadata": {},
   "source": [
    "6.Write a program to demonstrate all the available data types in Python. Hint: Use type() function."
   ]
  },
  {
   "cell_type": "code",
   "execution_count": 41,
   "metadata": {},
   "outputs": [
    {
     "name": "stdout",
     "output_type": "stream",
     "text": [
      "Type of a:  <class 'int'>\n",
      "Type of b:  <class 'float'>\n",
      "Type of c:  <class 'complex'>\n",
      "Type of d:  <class 'str'>\n",
      "Type of e:  <class 'tuple'>\n",
      "Type of f:  <class 'set'>\n",
      "Type of g:  <class 'list'>\n",
      "Type of h:  <class 'bool'>\n",
      "Type of i:  <class 'dict'>\n"
     ]
    }
   ],
   "source": [
    "a = 5\n",
    "print(\"Type of a: \", type(a)) \n",
    "  \n",
    "b = 5.0\n",
    "print(\"Type of b: \", type(b)) \n",
    "  \n",
    "c = 2 + 4j\n",
    "print(\"Type of c: \", type(c))\n",
    "\n",
    "d=\"vishnu\"\n",
    "print(\"Type of d: \", type(d))\n",
    "\n",
    "e=(1,2,3)\n",
    "print(\"Type of e: \", type(e))\n",
    "\n",
    "f={1,2,3}\n",
    "print(\"Type of f: \", type(f))\n",
    "\n",
    "g=[1,2,3]\n",
    "print(\"Type of g: \", type(g))\n",
    "\n",
    "h=True\n",
    "print(\"Type of h: \", type(h))\n",
    "\n",
    "i = {\n",
    "  \"Name\": \"vishnu\",\n",
    "  \"Dob\": 1997\n",
    "}\n",
    "print(\"Type of i: \", type(i))"
   ]
  },
  {
   "cell_type": "code",
   "execution_count": null,
   "metadata": {},
   "outputs": [],
   "source": []
  }
 ],
 "metadata": {
  "kernelspec": {
   "display_name": "Python 3",
   "language": "python",
   "name": "python3"
  },
  "language_info": {
   "codemirror_mode": {
    "name": "ipython",
    "version": 3
   },
   "file_extension": ".py",
   "mimetype": "text/x-python",
   "name": "python",
   "nbconvert_exporter": "python",
   "pygments_lexer": "ipython3",
   "version": "3.8.3"
  }
 },
 "nbformat": 4,
 "nbformat_minor": 4
}
